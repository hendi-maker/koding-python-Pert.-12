{
 "cells": [
  {
   "cell_type": "markdown",
   "metadata": {},
   "source": [
    "![title](img/header.png)"
   ]
  },
  {
   "cell_type": "markdown",
   "metadata": {},
   "source": [
    "## Reading a CSV File"
   ]
  },
  {
   "cell_type": "code",
   "execution_count": 1,
   "metadata": {},
   "outputs": [
    {
     "name": "stdout",
     "output_type": "stream",
     "text": [
      "   id    name  salary start_date        dept\n",
      "0   1    Rick  623.30   1/1/2012          IT\n",
      "1   2     Dan  515.20   23-09-13  Operations\n",
      "2   3   Tusar  611.00   15-11-14          IT\n",
      "3   4    Ryan  729.00  11/5/2014          HR\n",
      "4   5    Gary  843.25   27-03-15     Finance\n",
      "5   6   Rasmi  578.00   21-05-13          IT\n",
      "6   7  Pranab  632.80   30-07-13  Operations\n",
      "7   8    Guru  722.50   17-06-14     Finance\n"
     ]
    }
   ],
   "source": [
    "import pandas as pd\n",
    "data = pd.read_csv('input.csv')\n",
    "print(data)"
   ]
  },
  {
   "attachments": {},
   "cell_type": "markdown",
   "metadata": {},
   "source": [
    "### Reading Specific Rows"
   ]
  },
  {
   "cell_type": "code",
   "execution_count": 2,
   "metadata": {
    "scrolled": true
   },
   "outputs": [
    {
     "name": "stdout",
     "output_type": "stream",
     "text": [
      "0    623.30\n",
      "1    515.20\n",
      "2    611.00\n",
      "3    729.00\n",
      "4    843.25\n",
      "Name: salary, dtype: float64\n"
     ]
    }
   ],
   "source": [
    "data = pd.read_csv('input.csv')\n",
    "\n",
    "#slice the result for first 5 rows\n",
    "print(data[:5]['salary'])"
   ]
  },
  {
   "attachments": {},
   "cell_type": "markdown",
   "metadata": {},
   "source": [
    "### Reading Specific Columns"
   ]
  },
  {
   "cell_type": "code",
   "execution_count": 3,
   "metadata": {},
   "outputs": [
    {
     "name": "stdout",
     "output_type": "stream",
     "text": [
      "   salary    name\n",
      "0  623.30    Rick\n",
      "1  515.20     Dan\n",
      "2  611.00   Tusar\n",
      "3  729.00    Ryan\n",
      "4  843.25    Gary\n",
      "5  578.00   Rasmi\n",
      "6  632.80  Pranab\n",
      "7  722.50    Guru\n"
     ]
    }
   ],
   "source": [
    "data = pd.read_csv('input.csv')\n",
    "\n",
    "print(data.loc[:,['salary','name']])"
   ]
  },
  {
   "attachments": {},
   "cell_type": "markdown",
   "metadata": {},
   "source": [
    "### Reading Specific Columns & Rows"
   ]
  },
  {
   "cell_type": "code",
   "execution_count": 4,
   "metadata": {},
   "outputs": [
    {
     "name": "stdout",
     "output_type": "stream",
     "text": [
      "   salary   name\n",
      "1   515.2    Dan\n",
      "3   729.0   Ryan\n",
      "5   578.0  Rasmi\n",
      "\n",
      "   salary    name\n",
      "2  611.00   Tusar\n",
      "3  729.00    Ryan\n",
      "4  843.25    Gary\n",
      "5  578.00   Rasmi\n",
      "6  632.80  Pranab\n"
     ]
    }
   ],
   "source": [
    "print(data.loc[[1,3,5],['salary','name']])\n",
    "\n",
    "print()\n",
    "\n",
    "print(data.loc[2:6,['salary','name']])"
   ]
  },
  {
   "attachments": {},
   "cell_type": "markdown",
   "metadata": {},
   "source": [
    "## Processing JSON Data"
   ]
  },
  {
   "cell_type": "code",
   "execution_count": 5,
   "metadata": {},
   "outputs": [
    {
     "name": "stdout",
     "output_type": "stream",
     "text": [
      "         dept  id    name  salary start_date\n",
      "0          IT   1    Rick  623.30   1/1/2012\n",
      "1  Operations   2     Dan  515.20   23-09-13\n",
      "2          IT   3   Tusar  611.00   15-11-14\n",
      "3          HR   4    Ryan  729.00  11/5/2014\n",
      "4     Finance   5    Gary  843.25   27-03-15\n",
      "5          it   6   Rasmi  578.00   21-05-13\n",
      "6  Operations   7  Pranab  632.80   30-07-13\n",
      "7     Finance   8    Guru  722.50   17-06-14\n"
     ]
    }
   ],
   "source": [
    "data = pd.read_json('input.json')\n",
    "\n",
    "print(data)"
   ]
  },
  {
   "attachments": {},
   "cell_type": "markdown",
   "metadata": {},
   "source": [
    "### Reading Specific Columns and Rows"
   ]
  },
  {
   "cell_type": "code",
   "execution_count": 6,
   "metadata": {},
   "outputs": [
    {
     "name": "stdout",
     "output_type": "stream",
     "text": [
      "   salary   name\n",
      "1   515.2    Dan\n",
      "3   729.0   Ryan\n",
      "5   578.0  Rasmi\n",
      "\n",
      "   salary    name\n",
      "2  611.00   Tusar\n",
      "3  729.00    Ryan\n",
      "4  843.25    Gary\n",
      "5  578.00   Rasmi\n",
      "6  632.80  Pranab\n"
     ]
    }
   ],
   "source": [
    "print(data.loc[[1,3,5],['salary','name']])\n",
    "\n",
    "print()\n",
    "\n",
    "print(data.loc[2:6,['salary','name']])"
   ]
  },
  {
   "attachments": {},
   "cell_type": "markdown",
   "metadata": {},
   "source": [
    "### Reading to Json view"
   ]
  },
  {
   "cell_type": "code",
   "execution_count": 7,
   "metadata": {
    "scrolled": true
   },
   "outputs": [
    {
     "name": "stdout",
     "output_type": "stream",
     "text": [
      "{\"dept\":\"  IT\",\"id\":1,\"name\":\"Rick\",\"salary\":623.3,\"start_date\":\"1\\/1\\/2012\"}\n",
      "{\"dept\":\"Operations\",\"id\":2,\"name\":\"Dan\",\"salary\":515.2,\"start_date\":\"23-09-13\"}\n",
      "{\"dept\":\"IT\",\"id\":3,\"name\":\"Tusar\",\"salary\":611.0,\"start_date\":\"15-11-14\"}\n",
      "{\"dept\":\"HR\",\"id\":4,\"name\":\"Ryan\",\"salary\":729.0,\"start_date\":\"11\\/5\\/2014\"}\n",
      "{\"dept\":\"Finance\",\"id\":5,\"name\":\"Gary\",\"salary\":843.25,\"start_date\":\"27-03-15\"}\n",
      "{\"dept\":\"it\",\"id\":6,\"name\":\"Rasmi\",\"salary\":578.0,\"start_date\":\"21-05-13\"}\n",
      "{\"dept\":\"Operations\",\"id\":7,\"name\":\"Pranab\",\"salary\":632.8,\"start_date\":\"30-07-13\"}\n",
      "{\"dept\":\"Finance\",\"id\":8,\"name\":\"Guru\",\"salary\":722.5,\"start_date\":\"17-06-14\"}\n"
     ]
    }
   ],
   "source": [
    "print(data.to_json(orient='records',lines=True))"
   ]
  },
  {
   "attachments": {},
   "cell_type": "markdown",
   "metadata": {},
   "source": [
    "### Processing Excel Data"
   ]
  },
  {
   "cell_type": "code",
   "execution_count": 8,
   "metadata": {},
   "outputs": [
    {
     "name": "stdout",
     "output_type": "stream",
     "text": [
      "      id    name  salary start_date        dept\n",
      "0      1    Rick  623.30 2012-01-01          IT\n",
      "1      2     Dan  515.20 2013-09-23  Operations\n",
      "2      3   Tusar  611.00 2014-11-15          IT\n",
      "3      4    Ryan  729.00 2014-11-05          HR\n",
      "4      5    Gary  843.25 2015-03-27     Finance\n",
      "5      6   Rasmi  578.00 2013-05-21          it\n",
      "6      7  Pranab  632.80 2013-07-30  Operations\n",
      "7      8    Guru  722.50 2014-06-17     Finance\n"
     ]
    }
   ],
   "source": [
    "data = pd.read_excel('input.xlsx')\n",
    "\n",
    "print(data)"
   ]
  },
  {
   "cell_type": "markdown",
   "metadata": {},
   "source": [
    "### Reading Specific Columns and Rows"
   ]
  },
  {
   "cell_type": "code",
   "execution_count": 9,
   "metadata": {},
   "outputs": [
    {
     "name": "stdout",
     "output_type": "stream",
     "text": [
      "   salary   name\n",
      "1   515.2    Dan\n",
      "3   729.0   Ryan\n",
      "5   578.0  Rasmi\n",
      "\n",
      "   salary    name\n",
      "2  611.00   Tusar\n",
      "3  729.00    Ryan\n",
      "4  843.25    Gary\n",
      "5  578.00   Rasmi\n",
      "6  632.80  Pranab\n"
     ]
    }
   ],
   "source": [
    "print(data.loc[[1,3,5],['salary','name']])\n",
    "\n",
    "print()\n",
    "\n",
    "print(data.loc[2:6,['salary','name']])"
   ]
  },
  {
   "attachments": {},
   "cell_type": "markdown",
   "metadata": {},
   "source": [
    "### Reading Multiple Excel Sheets"
   ]
  },
  {
   "cell_type": "code",
   "execution_count": 10,
   "metadata": {
    "scrolled": true
   },
   "outputs": [
    {
     "name": "stdout",
     "output_type": "stream",
     "text": [
      "Hasil Sheet 1:\n",
      "0    623.30\n",
      "1    515.20\n",
      "2    611.00\n",
      "3    729.00\n",
      "4    843.25\n",
      "Name: salary, dtype: float64\n",
      "\n",
      "Hasil Sheet 2:\n",
      "0     857353\n",
      "1    8734345\n",
      "2    5345326\n",
      "3     893242\n",
      "4    3532352\n",
      "Name: zipcode, dtype: int64\n"
     ]
    }
   ],
   "source": [
    "with pd.ExcelFile('input.xlsx') as xls:\n",
    "    df1 = pd.read_excel(xls,'Sheet1')\n",
    "    df2 = pd.read_excel(xls,'Sheet2')\n",
    "    \n",
    "print(\"Hasil Sheet 1:\")\n",
    "print(df1[:5]['salary'])\n",
    "print()\n",
    "print(\"Hasil Sheet 2:\")\n",
    "print(df2[:5]['zipcode'])"
   ]
  },
  {
   "attachments": {},
   "cell_type": "markdown",
   "metadata": {},
   "source": [
    "### Reading a CSV File as Relational DB"
   ]
  },
  {
   "cell_type": "code",
   "execution_count": 11,
   "metadata": {},
   "outputs": [
    {
     "name": "stdout",
     "output_type": "stream",
     "text": [
      "Hasil 1:\n",
      "   index  id    name  salary start_date        dept\n",
      "0      0   1    Rick  623.30   1/1/2012          IT\n",
      "1      1   2     Dan  515.20   23-09-13  Operations\n",
      "2      2   3   Tusar  611.00   15-11-14          IT\n",
      "3      3   4    Ryan  729.00  11/5/2014          HR\n",
      "4      4   5    Gary  843.25   27-03-15     Finance\n",
      "5      5   6   Rasmi  578.00   21-05-13          IT\n",
      "6      6   7  Pranab  632.80   30-07-13  Operations\n",
      "7      7   8    Guru  722.50   17-06-14     Finance\n",
      "\n",
      "Hasil 2:\n",
      "         dept  sum(salary)\n",
      "0     Finance      1565.75\n",
      "1          HR       729.00\n",
      "2          IT      1812.30\n",
      "3  Operations      1148.00\n"
     ]
    }
   ],
   "source": [
    "from sqlalchemy import create_engine\n",
    "data = pd.read_csv('input.csv')\n",
    "\n",
    "# create db engine\n",
    "engine = create_engine('sqlite:///:memory:')\n",
    "\n",
    "# store df as a table\n",
    "data.to_sql('data_table',engine)\n",
    "\n",
    "# coba Query 1\n",
    "res1 = pd.read_sql_query('SELECT * FROM data_table', engine)\n",
    "print('Hasil 1:')\n",
    "print(res1)\n",
    "print()\n",
    "\n",
    "# coba Query 2\n",
    "res2 = pd.read_sql_query('SELECT dept,sum(salary) FROM data_table group by dept', engine)\n",
    "print('Hasil 2:')\n",
    "print(res2)"
   ]
  },
  {
   "attachments": {},
   "cell_type": "markdown",
   "metadata": {},
   "source": [
    "### Inserting Data to Relational Tables"
   ]
  },
  {
   "cell_type": "code",
   "execution_count": 12,
   "metadata": {},
   "outputs": [
    {
     "name": "stdout",
     "output_type": "stream",
     "text": [
      "   id        dept    name  salary start_date\n",
      "0   1          IT    Rick  623.30   1/1/2012\n",
      "1   2  Operations     Dan  515.20   23-09-13\n",
      "2   3          IT   Tusar  611.00   15-11-14\n",
      "3   4          HR    Ryan  729.00  11/5/2014\n",
      "4   5     Finance    Gary  843.25   27-03-15\n",
      "5   6          IT   Rasmi  578.00   21-05-13\n",
      "6   7  Operations  Pranab  632.80   30-07-13\n",
      "7   8     Finance    Guru  722.50   17-06-14\n",
      "8   9          IT    Ruby  711.20   27/03/27\n"
     ]
    }
   ],
   "source": [
    "from pandas.io import sql\n",
    "from sqlalchemy import create_engine\n",
    "data = pd.read_csv('input.csv')\n",
    "\n",
    "# create db engine\n",
    "engine = create_engine('sqlite:///:memory:')\n",
    "\n",
    "# store df as a table\n",
    "data.to_sql('data_table',engine)\n",
    "\n",
    "# coba insert data\n",
    "sql.execute('INSERT INTO data_table VALUES(?,?,?,?,?,?)', engine, params=['id',9,'Ruby',711.20,'27/03/27','IT'])\n",
    "\n",
    "# read from Relational table\n",
    "res = pd.read_sql_query('SELECT id,dept,name,salary,start_date FROM data_table', engine)\n",
    "print(res)"
   ]
  },
  {
   "cell_type": "markdown",
   "metadata": {},
   "source": [
    "#### Deleting Data to Relational Tables"
   ]
  },
  {
   "cell_type": "code",
   "execution_count": 13,
   "metadata": {},
   "outputs": [
    {
     "name": "stdout",
     "output_type": "stream",
     "text": [
      "   id        dept    name  salary start_date\n",
      "0   1          IT    Rick   623.3   1/1/2012\n",
      "1   2  Operations     Dan   515.2   23-09-13\n",
      "2   3          IT   Tusar   611.0   15-11-14\n",
      "3   4          HR    Ryan   729.0  11/5/2014\n",
      "4   6          IT   Rasmi   578.0   21-05-13\n",
      "5   7  Operations  Pranab   632.8   30-07-13\n",
      "6   8     Finance    Guru   722.5   17-06-14\n",
      "7   9          IT    Ruby   711.2   27/03/27\n"
     ]
    }
   ],
   "source": [
    "# coba delete data\n",
    "sql.execute('Delete from data_table where name=(?)', engine, params=[('Gary')])\n",
    "\n",
    "# read from Relational table\n",
    "res = pd.read_sql_query('SELECT id,dept,name,salary,start_date FROM data_table', engine)\n",
    "print(res)"
   ]
  },
  {
   "cell_type": "markdown",
   "metadata": {},
   "source": [
    "## Reading HTML File\n"
   ]
  },
  {
   "cell_type": "code",
   "execution_count": 14,
   "metadata": {},
   "outputs": [
    {
     "name": "stdout",
     "output_type": "stream",
     "text": [
      "Collecting urllib2\n",
      "\u001b[31m  Could not find a version that satisfies the requirement urllib2 (from versions: )\u001b[0m\n",
      "\u001b[31mNo matching distribution found for urllib2\u001b[0m\n",
      "\u001b[33mYou are using pip version 9.0.1, however version 19.1.1 is available.\n",
      "You should consider upgrading via the 'pip install --upgrade pip' command.\u001b[0m\n"
     ]
    }
   ],
   "source": [
    "!pip install urllib2"
   ]
  },
  {
   "cell_type": "code",
   "execution_count": 15,
   "metadata": {
    "scrolled": false
   },
   "outputs": [
    {
     "name": "stdout",
     "output_type": "stream",
     "text": [
      "<!DOCTYPE html>\n",
      "<html>\n",
      "<body>\n",
      "\n",
      "<h1>My First Heading</h1>\n",
      "\n",
      "<p>My 1st paragraph.</p>\n",
      "<p>My 2nd paragraph.</p>\n",
      "<p>My 3rd paragraph.</p>\n",
      "\n",
      "</body>\n",
      "</html>\n",
      "\n",
      "\n",
      "<title>Google</title>\n",
      "Google\n"
     ]
    }
   ],
   "source": [
    "from urllib.request import urlopen\n",
    "from bs4 import BeautifulSoup as Soup \n",
    "\n",
    "# Fetch the html file local\n",
    "with open(\"sample.html\", \"r\") as sample:\n",
    "    sample_html = sample.read()\n",
    "print(sample_html)\n",
    "\n",
    "# Fetch the html file online\n",
    "response = urlopen(\"http://www.google.com/\")\n",
    "#print(response.read())\n",
    "soup = Soup(response,'html.parser')\n",
    "print(soup.title)\n",
    "print(soup.title.text) # atau print(soup.title.string)"
   ]
  },
  {
   "attachments": {},
   "cell_type": "markdown",
   "metadata": {},
   "source": [
    "### Extracting All Tags"
   ]
  },
  {
   "cell_type": "code",
   "execution_count": 16,
   "metadata": {},
   "outputs": [
    {
     "name": "stdout",
     "output_type": "stream",
     "text": [
      "Python is Interpreted\n",
      "Python is Interactive\n",
      "Python is Object-Oriented\n",
      "Python is a Beginner's Language\n",
      "Easy-to-learn\n",
      "Easy-to-read\n",
      "Easy-to-maintain\n",
      "A broad standard library\n",
      "Interactive Mode\n",
      "Portable\n",
      "Extendable\n",
      "Databases\n",
      "GUI Programming\n",
      "Scalable\n"
     ]
    }
   ],
   "source": [
    "# Fetch the html file online\n",
    "response = urlopen(\"http://tutorialspoint.com/python/python_overview.htm\")\n",
    "#print(response.read())\n",
    "soup = Soup(response,'html.parser')\n",
    "for x in soup.find_all('b'): print(x.string)"
   ]
  },
  {
   "cell_type": "code",
   "execution_count": 17,
   "metadata": {},
   "outputs": [
    {
     "name": "stdout",
     "output_type": "stream",
     "text": [
      "<!DOCTYPE html>\n",
      "<html>\n",
      "<body>\n",
      "<h1>My First Heading</h1>\n",
      "<p>My 1st paragraph.</p>\n",
      "<p>My 2nd paragraph.</p>\n",
      "<p>My 3rd paragraph.</p>\n",
      "</body>\n",
      "</html>\n",
      "\n"
     ]
    }
   ],
   "source": [
    "sample_soup = Soup(sample_html, 'lxml')\n",
    "print(sample_soup)"
   ]
  },
  {
   "cell_type": "code",
   "execution_count": 18,
   "metadata": {},
   "outputs": [
    {
     "name": "stdout",
     "output_type": "stream",
     "text": [
      "[<p>My 1st paragraph.</p>, <p>My 2nd paragraph.</p>, <p>My 3rd paragraph.</p>]\n",
      "\n",
      "<p>My 2nd paragraph.</p>\n"
     ]
    }
   ],
   "source": [
    "p_tags = sample_soup.find_all(\"p\")\n",
    "print(p_tags)\n",
    "\n",
    "print()\n",
    "print(p_tags[1])"
   ]
  },
  {
   "cell_type": "code",
   "execution_count": 19,
   "metadata": {},
   "outputs": [
    {
     "name": "stdout",
     "output_type": "stream",
     "text": [
      "My 1st paragraph.\n",
      "My 2nd paragraph.\n",
      "My 3rd paragraph.\n"
     ]
    }
   ],
   "source": [
    "for p in p_tags:\n",
    "    print(p.text)"
   ]
  },
  {
   "cell_type": "code",
   "execution_count": 20,
   "metadata": {},
   "outputs": [
    {
     "data": {
      "text/plain": [
       "200"
      ]
     },
     "execution_count": 20,
     "metadata": {},
     "output_type": "execute_result"
    }
   ],
   "source": [
    "import requests\n",
    "ibm_url = \"https://finance.yahoo.com/quote/IBM/profile?p=IBM\"\n",
    "r = requests.get(ibm_url)\n",
    "r.status_code"
   ]
  },
  {
   "cell_type": "code",
   "execution_count": 21,
   "metadata": {
    "scrolled": true
   },
   "outputs": [
    {
     "data": {
      "text/plain": [
       "'; Facts</title><meta name=\"keywords\" content=\"company profile,business summary,company management,company introduction,key statistics,officers\"/><meta http-equiv=\"x-dns-prefetch-control\" content=\"on\"/><meta property=\"twitter:dnt\" content=\"on\"/><meta property=\"fb:app_id\" content=\"90376669494\"/><meta name=\"theme-color\" content=\"#400090\"/><meta name=\"viewport\" content=\"width=device-width, initial-scale=1\"/><meta name=\"description\" lang=\"en-US\" content=\"See the company profile for International Business Machines (IBM) including business summary, industry/sector information, number of employees, business summary, corporate governance, key executives and their compensation.\"/><meta name=\"oath:guce'"
      ]
     },
     "execution_count": 21,
     "metadata": {},
     "output_type": "execute_result"
    }
   ],
   "source": [
    "r.text[300:1000]"
   ]
  },
  {
   "cell_type": "markdown",
   "metadata": {},
   "source": [
    "### Convert it to a soup object"
   ]
  },
  {
   "cell_type": "code",
   "execution_count": 22,
   "metadata": {},
   "outputs": [
    {
     "name": "stdout",
     "output_type": "stream",
     "text": [
      "--------------------\n",
      "International Business Machines Corporation operates as an integrated technology and services company worldwide. Its Cognitive Solutions segment offers a portfolio of enterprise artificial intelligence platforms, such as analytics and data management platforms, cloud data services, talent management, and industry solutions primarily under the Watson Platform, Watson Health, and Watson Internet of Things names. This segment also offers transaction processing software for use in banking, airlines, and retail industries. The company's Global Business Services segment offers business consulting services; delivers system integration, application management, maintenance, and support services for packaged software applications; and finance, procurement, talent and engagement, and industry-specific business process outsourcing services. Its Technology Services & Cloud Platforms segment provides project, managed, outsourcing, and cloud-delivered services for enterprise IT infrastructure environments; technical, and software and solution support services; and integration software solutions. The company's Systems segment offers servers for businesses, cloud service providers, and scientific computing organizations; data storage products and solutions; and z/OS, an enterprise operating system. Its Global Financing segment provides lease, installment payment plans, and loan financing services; short-term working capital financing to suppliers, distributors, and resellers; and remanufacturing and remarketing services. The company serves financial services institutions, airlines, manufacturers, and consumer goods and retail companies. International Business Machines Corporation has s strategic partnership with Cloudera to develop joint go-to-market programs. The company was formerly known as Computing-Tabulating-Recording Co. and changed its name to International Business Machines Corporation in 1924. The company was incorporated in 1911 and is headquartered in Armonk, New York.\n",
      "--------------------\n"
     ]
    }
   ],
   "source": [
    "ibm_soup = Soup(r.text, 'lxml')\n",
    "# Find the correponding tag. Note bahwa class_ memiliki tanda underscore _\n",
    "summary_tag = ibm_soup.find(\"p\", class_=\"Mt(15px) Lh(1.6)\")\n",
    "print('--------------------')\n",
    "print(summary_tag.text)\n",
    "print('--------------------')"
   ]
  },
  {
   "cell_type": "markdown",
   "metadata": {
    "collapsed": true
   },
   "source": [
    "![title](img/thumbs-up.png)"
   ]
  }
 ],
 "metadata": {
  "kernelspec": {
   "display_name": "Python 3",
   "language": "python",
   "name": "python3"
  },
  "language_info": {
   "codemirror_mode": {
    "name": "ipython",
    "version": 3
   },
   "file_extension": ".py",
   "mimetype": "text/x-python",
   "name": "python",
   "nbconvert_exporter": "python",
   "pygments_lexer": "ipython3",
   "version": "3.6.3"
  }
 },
 "nbformat": 4,
 "nbformat_minor": 2
}
